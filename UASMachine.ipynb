{
  "nbformat": 4,
  "nbformat_minor": 0,
  "metadata": {
    "colab": {
      "name": "Untitled4.ipynb",
      "provenance": [],
      "collapsed_sections": [],
      "mount_file_id": "1AmkcnTeByIJT2I5N36t1jwi5-E1gLZyV",
      "authorship_tag": "ABX9TyNQFLyHX8PnZVmiyFIYWVAQ",
      "include_colab_link": true
    },
    "kernelspec": {
      "name": "python3",
      "display_name": "Python 3"
    }
  },
  "cells": [
    {
      "cell_type": "markdown",
      "metadata": {
        "id": "view-in-github",
        "colab_type": "text"
      },
      "source": [
        "<a href=\"https://colab.research.google.com/github/ARiyadi3/UAS/blob/main/UASMachine.ipynb\" target=\"_parent\"><img src=\"https://colab.research.google.com/assets/colab-badge.svg\" alt=\"Open In Colab\"/></a>"
      ]
    },
    {
      "cell_type": "code",
      "metadata": {
        "id": "pboQ4T5bmbGb"
      },
      "source": [
        "import pandas as pd\n"
      ],
      "execution_count": 16,
      "outputs": []
    },
    {
      "cell_type": "code",
      "metadata": {
        "id": "NbyuKf-NnhsI",
        "colab": {
          "base_uri": "https://localhost:8080/",
          "height": 172
        },
        "outputId": "8ee4738a-de82-4562-df3b-9841c1d8db34"
      },
      "source": [
        "columns = ['Name','Body','Gives','Four-logged','Hibernate', 'Mamalia']\r\n",
        "rows = []\r\n",
        "rows = [['Salamander','Cold','No','Yes','Yes','No'],\r\n",
        "       ['Guppy','Cold','Yes','No','No','No'],\r\n",
        "       ['Eagle','Warm','No','Yes','Yes','No'],\r\n",
        "       ['Platpus','Warm','No','Yes','Yes','Yes'],\r\n",
        "       ]\r\n",
        "training_data = pd.DataFrame(rows, columns=columns)\r\n",
        "training_data"
      ],
      "execution_count": 62,
      "outputs": [
        {
          "output_type": "execute_result",
          "data": {
            "text/html": [
              "<div>\n",
              "<style scoped>\n",
              "    .dataframe tbody tr th:only-of-type {\n",
              "        vertical-align: middle;\n",
              "    }\n",
              "\n",
              "    .dataframe tbody tr th {\n",
              "        vertical-align: top;\n",
              "    }\n",
              "\n",
              "    .dataframe thead th {\n",
              "        text-align: right;\n",
              "    }\n",
              "</style>\n",
              "<table border=\"1\" class=\"dataframe\">\n",
              "  <thead>\n",
              "    <tr style=\"text-align: right;\">\n",
              "      <th></th>\n",
              "      <th>Name</th>\n",
              "      <th>Body</th>\n",
              "      <th>Gives</th>\n",
              "      <th>Four-logged</th>\n",
              "      <th>Hibernate</th>\n",
              "      <th>Mamalia</th>\n",
              "    </tr>\n",
              "  </thead>\n",
              "  <tbody>\n",
              "    <tr>\n",
              "      <th>0</th>\n",
              "      <td>Salamander</td>\n",
              "      <td>Cold</td>\n",
              "      <td>No</td>\n",
              "      <td>Yes</td>\n",
              "      <td>Yes</td>\n",
              "      <td>No</td>\n",
              "    </tr>\n",
              "    <tr>\n",
              "      <th>1</th>\n",
              "      <td>Guppy</td>\n",
              "      <td>Cold</td>\n",
              "      <td>Yes</td>\n",
              "      <td>No</td>\n",
              "      <td>No</td>\n",
              "      <td>No</td>\n",
              "    </tr>\n",
              "    <tr>\n",
              "      <th>2</th>\n",
              "      <td>Eagle</td>\n",
              "      <td>Warm</td>\n",
              "      <td>No</td>\n",
              "      <td>Yes</td>\n",
              "      <td>Yes</td>\n",
              "      <td>No</td>\n",
              "    </tr>\n",
              "    <tr>\n",
              "      <th>3</th>\n",
              "      <td>Platpus</td>\n",
              "      <td>Warm</td>\n",
              "      <td>No</td>\n",
              "      <td>Yes</td>\n",
              "      <td>Yes</td>\n",
              "      <td>Yes</td>\n",
              "    </tr>\n",
              "  </tbody>\n",
              "</table>\n",
              "</div>"
            ],
            "text/plain": [
              "         Name  Body Gives Four-logged Hibernate Mamalia\n",
              "0  Salamander  Cold    No         Yes       Yes      No\n",
              "1       Guppy  Cold   Yes          No        No      No\n",
              "2       Eagle  Warm    No         Yes       Yes      No\n",
              "3     Platpus  Warm    No         Yes       Yes     Yes"
            ]
          },
          "metadata": {
            "tags": []
          },
          "execution_count": 62
        }
      ]
    },
    {
      "cell_type": "code",
      "metadata": {
        "colab": {
          "base_uri": "https://localhost:8080/"
        },
        "id": "Q758r9JOnF7V",
        "outputId": "1f51312d-1afb-46e4-d560-010ea642c0c6"
      },
      "source": [
        "from sklearn.feature_extraction.text import CountVectorizer\n",
        "stmt_docs = [row['Name'] for index,row in training_data.iterrows() if row['Mamalia'] == 'Yes']\n",
        "stmt_docs"
      ],
      "execution_count": 63,
      "outputs": [
        {
          "output_type": "execute_result",
          "data": {
            "text/plain": [
              "['Platpus']"
            ]
          },
          "metadata": {
            "tags": []
          },
          "execution_count": 63
        }
      ]
    },
    {
      "cell_type": "code",
      "metadata": {
        "colab": {
          "base_uri": "https://localhost:8080/",
          "height": 80
        },
        "id": "wZN0kWoJnkQd",
        "outputId": "6e3694dd-e988-4e00-a111-286899e456b9"
      },
      "source": [
        "vec_s = CountVectorizer()\r\n",
        "x_s = vec_s.fit_transform(stmt_docs)\r\n",
        "td_m = pd.DataFrame(x_s.toarray(), columns=vec_s.get_feature_names())\r\n",
        "td_m"
      ],
      "execution_count": 64,
      "outputs": [
        {
          "output_type": "execute_result",
          "data": {
            "text/html": [
              "<div>\n",
              "<style scoped>\n",
              "    .dataframe tbody tr th:only-of-type {\n",
              "        vertical-align: middle;\n",
              "    }\n",
              "\n",
              "    .dataframe tbody tr th {\n",
              "        vertical-align: top;\n",
              "    }\n",
              "\n",
              "    .dataframe thead th {\n",
              "        text-align: right;\n",
              "    }\n",
              "</style>\n",
              "<table border=\"1\" class=\"dataframe\">\n",
              "  <thead>\n",
              "    <tr style=\"text-align: right;\">\n",
              "      <th></th>\n",
              "      <th>platpus</th>\n",
              "    </tr>\n",
              "  </thead>\n",
              "  <tbody>\n",
              "    <tr>\n",
              "      <th>0</th>\n",
              "      <td>1</td>\n",
              "    </tr>\n",
              "  </tbody>\n",
              "</table>\n",
              "</div>"
            ],
            "text/plain": [
              "   platpus\n",
              "0        1"
            ]
          },
          "metadata": {
            "tags": []
          },
          "execution_count": 64
        }
      ]
    },
    {
      "cell_type": "code",
      "metadata": {
        "colab": {
          "base_uri": "https://localhost:8080/",
          "height": 80
        },
        "id": "PPOzTR2inphn",
        "outputId": "16eb534c-dd3b-42ab-89af-6b4e6b16711b"
      },
      "source": [
        "q_docs = [row['Name'] for index,row in training_data.iterrows() if row['Mamalia'] == 'No']\r\n",
        "vec_q = CountVectorizer()\r\n",
        "x_q = vec_q.fit_transform(stmt_docs)\r\n",
        "td_ms = pd.DataFrame(x_q.toarray(), columns=vec_q.get_feature_names())\r\n",
        "td_ms"
      ],
      "execution_count": 65,
      "outputs": [
        {
          "output_type": "execute_result",
          "data": {
            "text/html": [
              "<div>\n",
              "<style scoped>\n",
              "    .dataframe tbody tr th:only-of-type {\n",
              "        vertical-align: middle;\n",
              "    }\n",
              "\n",
              "    .dataframe tbody tr th {\n",
              "        vertical-align: top;\n",
              "    }\n",
              "\n",
              "    .dataframe thead th {\n",
              "        text-align: right;\n",
              "    }\n",
              "</style>\n",
              "<table border=\"1\" class=\"dataframe\">\n",
              "  <thead>\n",
              "    <tr style=\"text-align: right;\">\n",
              "      <th></th>\n",
              "      <th>platpus</th>\n",
              "    </tr>\n",
              "  </thead>\n",
              "  <tbody>\n",
              "    <tr>\n",
              "      <th>0</th>\n",
              "      <td>1</td>\n",
              "    </tr>\n",
              "  </tbody>\n",
              "</table>\n",
              "</div>"
            ],
            "text/plain": [
              "   platpus\n",
              "0        1"
            ]
          },
          "metadata": {
            "tags": []
          },
          "execution_count": 65
        }
      ]
    },
    {
      "cell_type": "code",
      "metadata": {
        "colab": {
          "base_uri": "https://localhost:8080/"
        },
        "id": "VFnc7UN2nzWa",
        "outputId": "ed459f2c-22ed-49c2-d882-95795738f12f"
      },
      "source": [
        "word_list_s = vec_s.get_feature_names();\r\n",
        "count_list_s = x_s.toarray().sum(axis=0)\r\n",
        "freq_s = dict(zip(word_list_s,count_list_s))\r\n",
        "word_list_s\r\n",
        "freq_s"
      ],
      "execution_count": 68,
      "outputs": [
        {
          "output_type": "execute_result",
          "data": {
            "text/plain": [
              "{'platpus': 1}"
            ]
          },
          "metadata": {
            "tags": []
          },
          "execution_count": 68
        }
      ]
    },
    {
      "cell_type": "code",
      "metadata": {
        "colab": {
          "base_uri": "https://localhost:8080/"
        },
        "id": "y9Yxef35oCoY",
        "outputId": "b91bd9e8-bfdc-4567-c1cd-7c8baa95a742"
      },
      "source": [
        "word_list_q = vec_q.get_feature_names();\n",
        "count_list_q = x_q.toarray().sum(axis=0)\n",
        "freq_q = dict(zip(word_list_q,count_list_q))\n",
        "freq_q"
      ],
      "execution_count": 69,
      "outputs": [
        {
          "output_type": "execute_result",
          "data": {
            "text/plain": [
              "{'platpus': 1}"
            ]
          },
          "metadata": {
            "tags": []
          },
          "execution_count": 69
        }
      ]
    },
    {
      "cell_type": "code",
      "metadata": {
        "colab": {
          "base_uri": "https://localhost:8080/"
        },
        "id": "YN0sbcLIoY7_",
        "outputId": "6a050802-52c2-4e3a-931f-2fd102d87aec"
      },
      "source": [
        "prob_s = []\n",
        "for word, count in zip(word_list_s,count_list_s):\n",
        "  prob_s.append(count/len(word_list_s))\n",
        "dict(zip(word_list_s,prob_s))"
      ],
      "execution_count": 70,
      "outputs": [
        {
          "output_type": "execute_result",
          "data": {
            "text/plain": [
              "{'platpus': 1.0}"
            ]
          },
          "metadata": {
            "tags": []
          },
          "execution_count": 70
        }
      ]
    },
    {
      "cell_type": "code",
      "metadata": {
        "colab": {
          "base_uri": "https://localhost:8080/"
        },
        "id": "i3knBLffot6h",
        "outputId": "bbae015c-b71c-45f9-dadb-3f61b8245627"
      },
      "source": [
        "prob_q = []\n",
        "for word, count in zip(word_list_q,count_list_q):\n",
        "  prob_s.append(count/len(word_list_q))\n",
        "dict(zip(word_list_q,prob_q))"
      ],
      "execution_count": 71,
      "outputs": [
        {
          "output_type": "execute_result",
          "data": {
            "text/plain": [
              "{}"
            ]
          },
          "metadata": {
            "tags": []
          },
          "execution_count": 71
        }
      ]
    },
    {
      "cell_type": "code",
      "metadata": {
        "colab": {
          "base_uri": "https://localhost:8080/"
        },
        "id": "OhWcsGiCpCLS",
        "outputId": "7c538d11-e52f-4a32-b3fd-130ddc33ad3b"
      },
      "source": [
        "from sklearn.feature_extraction.text import CountVectorizer\r\n",
        "docs = [row['Name'] for index,row in training_data.iterrows()]\r\n",
        "\r\n",
        "vec = CountVectorizer()\r\n",
        "x = vec.fit_transform(docs)\r\n",
        "\r\n",
        "total_features = len(vec.get_feature_names())\r\n",
        "total_features"
      ],
      "execution_count": 72,
      "outputs": [
        {
          "output_type": "execute_result",
          "data": {
            "text/plain": [
              "4"
            ]
          },
          "metadata": {
            "tags": []
          },
          "execution_count": 72
        }
      ]
    },
    {
      "cell_type": "code",
      "metadata": {
        "id": "WQK1nywVpKBu",
        "colab": {
          "base_uri": "https://localhost:8080/"
        },
        "outputId": "0d61a33b-741b-43fb-b5e7-abebb208eae9"
      },
      "source": [
        "total_cnts_features_s = count_list_s.sum(axis=0)\n",
        "total_cnts_features_q = count_list_q.sum(axis=0)\n",
        "print(total_cnts_features_q)\n",
        "print(total_cnts_features_s)"
      ],
      "execution_count": 73,
      "outputs": [
        {
          "output_type": "stream",
          "text": [
            "1\n",
            "1\n"
          ],
          "name": "stdout"
        }
      ]
    },
    {
      "cell_type": "code",
      "metadata": {
        "id": "bjC5cN4YUbnk",
        "colab": {
          "base_uri": "https://localhost:8080/"
        },
        "outputId": "da779403-b50c-4a6f-c446-b88b8c126a43"
      },
      "source": [
        "import nltk\r\n",
        "nltk.download('punkt')"
      ],
      "execution_count": 74,
      "outputs": [
        {
          "output_type": "stream",
          "text": [
            "[nltk_data] Downloading package punkt to /root/nltk_data...\n",
            "[nltk_data]   Package punkt is already up-to-date!\n"
          ],
          "name": "stdout"
        },
        {
          "output_type": "execute_result",
          "data": {
            "text/plain": [
              "True"
            ]
          },
          "metadata": {
            "tags": []
          },
          "execution_count": 74
        }
      ]
    },
    {
      "cell_type": "code",
      "metadata": {
        "id": "BBmgScY-pUwN",
        "colab": {
          "base_uri": "https://localhost:8080/"
        },
        "outputId": "baafef1f-c815-4618-e010-01fca90af4e4"
      },
      "source": [
        "from nltk.tokenize import word_tokenize\r\n",
        "new_setence = 'Dolphin Warm Yes No No Yes'\r\n",
        "new_word_list = word_tokenize(new_setence)\r\n",
        "print(new_word_list)"
      ],
      "execution_count": 75,
      "outputs": [
        {
          "output_type": "stream",
          "text": [
            "['Dolphin', 'Warm', 'Yes', 'No', 'No', 'Yes']\n"
          ],
          "name": "stdout"
        }
      ]
    },
    {
      "cell_type": "code",
      "metadata": {
        "id": "9xEPggqTWUo3"
      },
      "source": [
        "prob_s_with_ls = []\r\n",
        "for word in new_word_list:\r\n",
        "  if word in freq_s.keys():\r\n",
        "    count = freq_s[word]\r\n",
        "  else:\r\n",
        "    count = 0\r\n",
        "  prob_s_with_ls.append((count + 1 ) / (total_cnts_features_s + total_features))\r\n",
        "  dict(zip(new_word_list, prob_s_with_ls))"
      ],
      "execution_count": 76,
      "outputs": []
    },
    {
      "cell_type": "code",
      "metadata": {
        "id": "6lNRQ0uZpgJL"
      },
      "source": [
        "prob_q_with_ls = []\r\n",
        "for word in new_word_list:\r\n",
        "  if word in freq_q.keys():\r\n",
        "    count = freq_q[word]\r\n",
        "  else:\r\n",
        "    count = 0\r\n",
        "  prob_q_with_ls.append((count + 1 ) / (total_cnts_features_q + total_features))\r\n",
        "  dict(zip(new_word_list, prob_q_with_ls))"
      ],
      "execution_count": 77,
      "outputs": []
    },
    {
      "cell_type": "code",
      "metadata": {
        "colab": {
          "base_uri": "https://localhost:8080/"
        },
        "id": "9erQpUuXpwVw",
        "outputId": "f6384bb6-d401-4bf7-ac1d-2d63e3be27cf"
      },
      "source": [
        "i = 0\r\n",
        "prob_s = 1\r\n",
        "for i in range (len(prob_s_with_ls)):\r\n",
        "  prob_s = prob_s*prob_s_with_ls[i]\r\n",
        "print(prob_s)\r\n",
        "print(\"Nilai Akhir Statement\", prob_s*0.5)"
      ],
      "execution_count": 78,
      "outputs": [
        {
          "output_type": "stream",
          "text": [
            "6.400000000000002e-05\n",
            "Nilai Akhir Statement 3.200000000000001e-05\n"
          ],
          "name": "stdout"
        }
      ]
    },
    {
      "cell_type": "code",
      "metadata": {
        "colab": {
          "base_uri": "https://localhost:8080/"
        },
        "id": "Ozo5DKAKWm4n",
        "outputId": "58217938-7524-48de-8d17-d77e5667c8b7"
      },
      "source": [
        "i = 0\n",
        "prob_q = 1\n",
        "for i in range (len(prob_q_with_ls)):\n",
        "  prob_q = prob_q*prob_q_with_ls[i]\n",
        "print(prob_q)\n",
        "print(\"Nilai Akhir Statement\", prob_q*0.5)"
      ],
      "execution_count": 79,
      "outputs": [
        {
          "output_type": "stream",
          "text": [
            "6.400000000000002e-05\n",
            "Nilai Akhir Statement 3.200000000000001e-05\n"
          ],
          "name": "stdout"
        }
      ]
    }
  ]
}