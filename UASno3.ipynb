{
  "nbformat": 4,
  "nbformat_minor": 0,
  "metadata": {
    "colab": {
      "name": "Untitled4.ipynb",
      "provenance": [],
      "collapsed_sections": [],
      "mount_file_id": "1AmkcnTeByIJT2I5N36t1jwi5-E1gLZyV",
      "authorship_tag": "ABX9TyPP5hKO+LAfGtFnNn/zofeL",
      "include_colab_link": true
    },
    "kernelspec": {
      "name": "python3",
      "display_name": "Python 3"
    }
  },
  "cells": [
    {
      "cell_type": "markdown",
      "metadata": {
        "id": "view-in-github",
        "colab_type": "text"
      },
      "source": [
        "<a href=\"https://colab.research.google.com/github/ARiyadi3/UAS/blob/main/UASno3.ipynb\" target=\"_parent\"><img src=\"https://colab.research.google.com/assets/colab-badge.svg\" alt=\"Open In Colab\"/></a>"
      ]
    },
    {
      "cell_type": "code",
      "metadata": {
        "id": "pboQ4T5bmbGb"
      },
      "source": [
        "import pandas as pd\n"
      ],
      "execution_count": 16,
      "outputs": []
    },
    {
      "cell_type": "code",
      "metadata": {
        "id": "NbyuKf-NnhsI",
        "colab": {
          "base_uri": "https://localhost:8080/",
          "height": 202
        },
        "outputId": "5f5b5ed6-4be9-44df-ba08-1c6b660e66d4"
      },
      "source": [
        "columns = ['Name','Body','Gives','Four-logged','Hibernate', 'Mamalia']\r\n",
        "rows = []\r\n",
        "rows = [['Salamander','Cold','No','Yes','Yes','No'],\r\n",
        "       ['Guppy','Cold','Yes','No','No','No'],\r\n",
        "       ['Eagle','Warm','No','Yes','Yes','No'],\r\n",
        "       ['Platpus','Warm','No','Yes','Yes','Yes'],\r\n",
        "       ['Dolphin','Warm','Yes','No','No','Yes'],\r\n",
        "       ]\r\n",
        "training_data = pd.DataFrame(rows, columns=columns)\r\n",
        "training_data"
      ],
      "execution_count": 28,
      "outputs": [
        {
          "output_type": "execute_result",
          "data": {
            "text/html": [
              "<div>\n",
              "<style scoped>\n",
              "    .dataframe tbody tr th:only-of-type {\n",
              "        vertical-align: middle;\n",
              "    }\n",
              "\n",
              "    .dataframe tbody tr th {\n",
              "        vertical-align: top;\n",
              "    }\n",
              "\n",
              "    .dataframe thead th {\n",
              "        text-align: right;\n",
              "    }\n",
              "</style>\n",
              "<table border=\"1\" class=\"dataframe\">\n",
              "  <thead>\n",
              "    <tr style=\"text-align: right;\">\n",
              "      <th></th>\n",
              "      <th>Name</th>\n",
              "      <th>Body</th>\n",
              "      <th>Gives</th>\n",
              "      <th>Four-logged</th>\n",
              "      <th>Hibernate</th>\n",
              "      <th>Mamalia</th>\n",
              "    </tr>\n",
              "  </thead>\n",
              "  <tbody>\n",
              "    <tr>\n",
              "      <th>0</th>\n",
              "      <td>Salamander</td>\n",
              "      <td>Cold</td>\n",
              "      <td>No</td>\n",
              "      <td>Yes</td>\n",
              "      <td>Yes</td>\n",
              "      <td>No</td>\n",
              "    </tr>\n",
              "    <tr>\n",
              "      <th>1</th>\n",
              "      <td>Guppy</td>\n",
              "      <td>Cold</td>\n",
              "      <td>Yes</td>\n",
              "      <td>No</td>\n",
              "      <td>No</td>\n",
              "      <td>No</td>\n",
              "    </tr>\n",
              "    <tr>\n",
              "      <th>2</th>\n",
              "      <td>Eagle</td>\n",
              "      <td>Warm</td>\n",
              "      <td>No</td>\n",
              "      <td>Yes</td>\n",
              "      <td>Yes</td>\n",
              "      <td>No</td>\n",
              "    </tr>\n",
              "    <tr>\n",
              "      <th>3</th>\n",
              "      <td>Platpus</td>\n",
              "      <td>Warm</td>\n",
              "      <td>No</td>\n",
              "      <td>Yes</td>\n",
              "      <td>Yes</td>\n",
              "      <td>Yes</td>\n",
              "    </tr>\n",
              "    <tr>\n",
              "      <th>4</th>\n",
              "      <td>Dolphin</td>\n",
              "      <td>Warm</td>\n",
              "      <td>Yes</td>\n",
              "      <td>No</td>\n",
              "      <td>No</td>\n",
              "      <td>Yes</td>\n",
              "    </tr>\n",
              "  </tbody>\n",
              "</table>\n",
              "</div>"
            ],
            "text/plain": [
              "         Name  Body Gives Four-logged Hibernate Mamalia\n",
              "0  Salamander  Cold    No         Yes       Yes      No\n",
              "1       Guppy  Cold   Yes          No        No      No\n",
              "2       Eagle  Warm    No         Yes       Yes      No\n",
              "3     Platpus  Warm    No         Yes       Yes     Yes\n",
              "4     Dolphin  Warm   Yes          No        No     Yes"
            ]
          },
          "metadata": {
            "tags": []
          },
          "execution_count": 28
        }
      ]
    },
    {
      "cell_type": "code",
      "metadata": {
        "colab": {
          "base_uri": "https://localhost:8080/"
        },
        "id": "Q758r9JOnF7V",
        "outputId": "2351ab69-cf90-4a0b-e887-25a15e415785"
      },
      "source": [
        "from sklearn.feature_extraction.text import CountVectorizer\n",
        "stmt_docs = [row['Name'] for index,row in training_data.iterrows() if row['Mamalia'] == 'Yes']\n",
        "stmt_docs"
      ],
      "execution_count": 30,
      "outputs": [
        {
          "output_type": "execute_result",
          "data": {
            "text/plain": [
              "['Platpus', 'Dolphin']"
            ]
          },
          "metadata": {
            "tags": []
          },
          "execution_count": 30
        }
      ]
    },
    {
      "cell_type": "code",
      "metadata": {
        "colab": {
          "base_uri": "https://localhost:8080/",
          "height": 110
        },
        "id": "wZN0kWoJnkQd",
        "outputId": "03d8a9a3-fa0b-4380-b43b-7f288cf4124f"
      },
      "source": [
        "vec_s = CountVectorizer()\r\n",
        "x_s = vec_s.fit_transform(stmt_docs)\r\n",
        "td_m = pd.DataFrame(x_s.toarray(), columns=vec_s.get_feature_names())\r\n",
        "td_m"
      ],
      "execution_count": 33,
      "outputs": [
        {
          "output_type": "execute_result",
          "data": {
            "text/html": [
              "<div>\n",
              "<style scoped>\n",
              "    .dataframe tbody tr th:only-of-type {\n",
              "        vertical-align: middle;\n",
              "    }\n",
              "\n",
              "    .dataframe tbody tr th {\n",
              "        vertical-align: top;\n",
              "    }\n",
              "\n",
              "    .dataframe thead th {\n",
              "        text-align: right;\n",
              "    }\n",
              "</style>\n",
              "<table border=\"1\" class=\"dataframe\">\n",
              "  <thead>\n",
              "    <tr style=\"text-align: right;\">\n",
              "      <th></th>\n",
              "      <th>dolphin</th>\n",
              "      <th>platpus</th>\n",
              "    </tr>\n",
              "  </thead>\n",
              "  <tbody>\n",
              "    <tr>\n",
              "      <th>0</th>\n",
              "      <td>0</td>\n",
              "      <td>1</td>\n",
              "    </tr>\n",
              "    <tr>\n",
              "      <th>1</th>\n",
              "      <td>1</td>\n",
              "      <td>0</td>\n",
              "    </tr>\n",
              "  </tbody>\n",
              "</table>\n",
              "</div>"
            ],
            "text/plain": [
              "   dolphin  platpus\n",
              "0        0        1\n",
              "1        1        0"
            ]
          },
          "metadata": {
            "tags": []
          },
          "execution_count": 33
        }
      ]
    },
    {
      "cell_type": "code",
      "metadata": {
        "colab": {
          "base_uri": "https://localhost:8080/",
          "height": 141
        },
        "id": "PPOzTR2inphn",
        "outputId": "e7db2e93-c8c4-471b-ea95-e49cd7e2b399"
      },
      "source": [
        "q_docs = [row['Name'] for index,row in training_data.iterrows() if row['Mamalia'] == 'No']\r\n",
        "vec_q = CountVectorizer()\r\n",
        "x_q = vec_q.fit_transform(stmt_docs)\r\n",
        "td_ms = pd.DataFrame(x_q.toarray(), columns=vec_q.get_feature_names())\r\n",
        "td_ms"
      ],
      "execution_count": 39,
      "outputs": [
        {
          "output_type": "execute_result",
          "data": {
            "text/html": [
              "<div>\n",
              "<style scoped>\n",
              "    .dataframe tbody tr th:only-of-type {\n",
              "        vertical-align: middle;\n",
              "    }\n",
              "\n",
              "    .dataframe tbody tr th {\n",
              "        vertical-align: top;\n",
              "    }\n",
              "\n",
              "    .dataframe thead th {\n",
              "        text-align: right;\n",
              "    }\n",
              "</style>\n",
              "<table border=\"1\" class=\"dataframe\">\n",
              "  <thead>\n",
              "    <tr style=\"text-align: right;\">\n",
              "      <th></th>\n",
              "      <th>eagle</th>\n",
              "      <th>guppy</th>\n",
              "      <th>salamander</th>\n",
              "    </tr>\n",
              "  </thead>\n",
              "  <tbody>\n",
              "    <tr>\n",
              "      <th>0</th>\n",
              "      <td>0</td>\n",
              "      <td>0</td>\n",
              "      <td>1</td>\n",
              "    </tr>\n",
              "    <tr>\n",
              "      <th>1</th>\n",
              "      <td>0</td>\n",
              "      <td>1</td>\n",
              "      <td>0</td>\n",
              "    </tr>\n",
              "    <tr>\n",
              "      <th>2</th>\n",
              "      <td>1</td>\n",
              "      <td>0</td>\n",
              "      <td>0</td>\n",
              "    </tr>\n",
              "  </tbody>\n",
              "</table>\n",
              "</div>"
            ],
            "text/plain": [
              "   eagle  guppy  salamander\n",
              "0      0      0           1\n",
              "1      0      1           0\n",
              "2      1      0           0"
            ]
          },
          "metadata": {
            "tags": []
          },
          "execution_count": 39
        }
      ]
    },
    {
      "cell_type": "code",
      "metadata": {
        "colab": {
          "base_uri": "https://localhost:8080/"
        },
        "id": "VFnc7UN2nzWa",
        "outputId": "762af19c-4752-4d1d-a422-35b0fc22e39c"
      },
      "source": [
        "word_list_s = vec_s.get_feature_names();\r\n",
        "count_list_s = x_s.toarray().sum(axis=0)\r\n",
        "freq_s = dict(zip(word_list_s,count_list_s))\r\n",
        "word_list_s\r\n",
        "freq_s"
      ],
      "execution_count": 36,
      "outputs": [
        {
          "output_type": "execute_result",
          "data": {
            "text/plain": [
              "{'eagle': 1, 'guppy': 1, 'salamander': 1}"
            ]
          },
          "metadata": {
            "tags": []
          },
          "execution_count": 36
        }
      ]
    },
    {
      "cell_type": "code",
      "metadata": {
        "colab": {
          "base_uri": "https://localhost:8080/"
        },
        "id": "y9Yxef35oCoY",
        "outputId": "1763f2dd-6fb9-4bf5-a5f6-46305362e62f"
      },
      "source": [
        "word_list_q = vec_q.get_feature_names();\n",
        "count_list_q = x_q.toarray().sum(axis=0)\n",
        "freq_q = dict(zip(word_list_q,count_list_q))\n",
        "freq_q"
      ],
      "execution_count": 40,
      "outputs": [
        {
          "output_type": "execute_result",
          "data": {
            "text/plain": [
              "{'eagle': 1, 'guppy': 1, 'salamander': 1}"
            ]
          },
          "metadata": {
            "tags": []
          },
          "execution_count": 40
        }
      ]
    },
    {
      "cell_type": "code",
      "metadata": {
        "colab": {
          "base_uri": "https://localhost:8080/"
        },
        "id": "YN0sbcLIoY7_",
        "outputId": "13c92293-90ae-4654-8bbb-2d883522385e"
      },
      "source": [
        "prob_s = []\n",
        "for word, count in zip(word_list_s,count_list_s):\n",
        "  prob_s.append(count/len(word_list_s))\n",
        "dict(zip(word_list_s,prob_s))"
      ],
      "execution_count": 42,
      "outputs": [
        {
          "output_type": "execute_result",
          "data": {
            "text/plain": [
              "{'eagle': 0.3333333333333333,\n",
              " 'guppy': 0.3333333333333333,\n",
              " 'salamander': 0.3333333333333333}"
            ]
          },
          "metadata": {
            "tags": []
          },
          "execution_count": 42
        }
      ]
    },
    {
      "cell_type": "code",
      "metadata": {
        "colab": {
          "base_uri": "https://localhost:8080/"
        },
        "id": "i3knBLffot6h",
        "outputId": "2dbdb993-521f-4f91-9fe6-b3290e6b47b1"
      },
      "source": [
        "prob_q = []\n",
        "for word, count in zip(word_list_q,count_list_q):\n",
        "  prob_s.append(count/len(word_list_q))\n",
        "dict(zip(word_list_q,prob_q))"
      ],
      "execution_count": 44,
      "outputs": [
        {
          "output_type": "execute_result",
          "data": {
            "text/plain": [
              "{}"
            ]
          },
          "metadata": {
            "tags": []
          },
          "execution_count": 44
        }
      ]
    },
    {
      "cell_type": "code",
      "metadata": {
        "colab": {
          "base_uri": "https://localhost:8080/"
        },
        "id": "OhWcsGiCpCLS",
        "outputId": "98ea800a-e8c4-4b04-d1c2-bfd344007c20"
      },
      "source": [
        "from sklearn.feature_extraction.text import CountVectorizer\r\n",
        "docs = [row['Name'] for index,row in training_data.iterrows()]\r\n",
        "\r\n",
        "vec = CountVectorizer()\r\n",
        "x = vec.fit_transform(docs)\r\n",
        "\r\n",
        "total_features = len(vec.get_feature_names())\r\n",
        "total_features"
      ],
      "execution_count": 46,
      "outputs": [
        {
          "output_type": "execute_result",
          "data": {
            "text/plain": [
              "5"
            ]
          },
          "metadata": {
            "tags": []
          },
          "execution_count": 46
        }
      ]
    },
    {
      "cell_type": "code",
      "metadata": {
        "id": "WQK1nywVpKBu",
        "colab": {
          "base_uri": "https://localhost:8080/"
        },
        "outputId": "cbe6aec4-7623-475c-9434-ea628db1c24e"
      },
      "source": [
        "total_cnts_features_s = count_list_s.sum(axis=0)\n",
        "total_cnts_features_q = count_list_q.sum(axis=0)\n",
        "print(total_cnts_features_q)\n",
        "print(total_cnts_features_s)"
      ],
      "execution_count": 50,
      "outputs": [
        {
          "output_type": "stream",
          "text": [
            "3\n",
            "3\n"
          ],
          "name": "stdout"
        }
      ]
    },
    {
      "cell_type": "code",
      "metadata": {
        "id": "bjC5cN4YUbnk",
        "colab": {
          "base_uri": "https://localhost:8080/"
        },
        "outputId": "f6308ced-856f-4123-8915-c25d94c8f0a5"
      },
      "source": [
        "import nltk\r\n",
        "nltk.download('punkt')"
      ],
      "execution_count": 52,
      "outputs": [
        {
          "output_type": "stream",
          "text": [
            "[nltk_data] Downloading package punkt to /root/nltk_data...\n",
            "[nltk_data]   Unzipping tokenizers/punkt.zip.\n"
          ],
          "name": "stdout"
        },
        {
          "output_type": "execute_result",
          "data": {
            "text/plain": [
              "True"
            ]
          },
          "metadata": {
            "tags": []
          },
          "execution_count": 52
        }
      ]
    },
    {
      "cell_type": "code",
      "metadata": {
        "id": "BBmgScY-pUwN",
        "colab": {
          "base_uri": "https://localhost:8080/"
        },
        "outputId": "c8e89c02-f1f8-4490-b469-e606592ad4d1"
      },
      "source": [
        "from nltk.tokenize import word_tokenize\r\n",
        "new_setence = 'Dolphin Warm Yes No No Yes'\r\n",
        "new_word_list = word_tokenize(new_setence)\r\n",
        "print(new_word_list)"
      ],
      "execution_count": 53,
      "outputs": [
        {
          "output_type": "stream",
          "text": [
            "['Dolphin', 'Warm', 'Yes', 'No', 'No', 'Yes']\n"
          ],
          "name": "stdout"
        }
      ]
    },
    {
      "cell_type": "code",
      "metadata": {
        "id": "9xEPggqTWUo3"
      },
      "source": [
        "prob_s_with_ls = []\r\n",
        "for word in new_word_list:\r\n",
        "  if word in freq_s.keys():\r\n",
        "    count = freq_s[word]\r\n",
        "  else:\r\n",
        "    count = 0\r\n",
        "  prob_s_with_ls.append((count + 1 ) / (total_cnts_features_s + total_features))\r\n",
        "  dict(zip(new_word_list, prob_s_with_ls))"
      ],
      "execution_count": 56,
      "outputs": []
    },
    {
      "cell_type": "code",
      "metadata": {
        "id": "6lNRQ0uZpgJL"
      },
      "source": [
        "prob_q_with_ls = []\r\n",
        "for word in new_word_list:\r\n",
        "  if word in freq_q.keys():\r\n",
        "    count = freq_q[word]\r\n",
        "  else:\r\n",
        "    count = 0\r\n",
        "  prob_q_with_ls.append((count + 1 ) / (total_cnts_features_q + total_features))\r\n",
        "  dict(zip(new_word_list, prob_q_with_ls))"
      ],
      "execution_count": 57,
      "outputs": []
    },
    {
      "cell_type": "code",
      "metadata": {
        "colab": {
          "base_uri": "https://localhost:8080/"
        },
        "id": "9erQpUuXpwVw",
        "outputId": "a1f33e49-9594-4f69-8068-93388ce8659d"
      },
      "source": [
        "i = 0\r\n",
        "prob_s = 1\r\n",
        "for i in range (len(prob_s_with_ls)):\r\n",
        "  prob_s = prob_s*prob_s_with_ls[i]\r\n",
        "print(prob_s)\r\n",
        "print(\"Nilai Akhir Statement\", prob_s*0.5)"
      ],
      "execution_count": 60,
      "outputs": [
        {
          "output_type": "stream",
          "text": [
            "3.814697265625e-06\n",
            "Nilai Akhir Statement 1.9073486328125e-06\n"
          ],
          "name": "stdout"
        }
      ]
    },
    {
      "cell_type": "code",
      "metadata": {
        "colab": {
          "base_uri": "https://localhost:8080/"
        },
        "id": "Ozo5DKAKWm4n",
        "outputId": "dd722245-477b-4280-c775-e40c24d9d47d"
      },
      "source": [
        "i = 0\n",
        "prob_q = 1\n",
        "for i in range (len(prob_q_with_ls)):\n",
        "  prob_q = prob_q*prob_q_with_ls[i]\n",
        "print(prob_q)\n",
        "print(\"Nilai Akhir Statement\", prob_q*0.5)"
      ],
      "execution_count": 61,
      "outputs": [
        {
          "output_type": "stream",
          "text": [
            "3.814697265625e-06\n",
            "Nilai Akhir Statement 1.9073486328125e-06\n"
          ],
          "name": "stdout"
        }
      ]
    }
  ]
}